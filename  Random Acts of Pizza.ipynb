{
 "cells": [
  {
   "cell_type": "code",
   "execution_count": 39,
   "metadata": {},
   "outputs": [
    {
     "name": "stdout",
     "output_type": "stream",
     "text": [
      "  request_id                                      request_title  \\\n",
      "0   t3_l25d7            Request Colorado Springs Help Us Please   \n",
      "1   t3_rcb83  [Request] California, No cash and I could use ...   \n",
      "2   t3_lpu5j  [Request] Hungry couple in Dundee, Scotland wo...   \n",
      "3   t3_mxvj3  [Request] In Canada (Ontario), just got home f...   \n",
      "4  t3_1i6486  [Request] Old friend coming to visit. Would LO...   \n",
      "\n",
      "                             request_text_edit_aware  requester_received_pizza  \n",
      "0  Hi I am in need of food for my 4 children we a...                     False  \n",
      "1  I spent the last money I had on gas today. Im ...                     False  \n",
      "2  My girlfriend decided it would be a good idea ...                     False  \n",
      "3  It's cold, I'n hungry, and to be completely ho...                     False  \n",
      "4  hey guys:\\n I love this sub. I think it's grea...                     False  \n",
      "---------------------------------------------------------------\n",
      "  request_id                                      request_title  \\\n",
      "0   t3_i8iy4  [request] pregger gf 95 degree house and no fo...   \n",
      "1  t3_1mfqi0  [Request] Lost my job day after labour day, st...   \n",
      "2   t3_lclka                (Request) pizza for my kids please?   \n",
      "3  t3_1jdgdj  [Request] Just moved to a new state(Waltham MA...   \n",
      "4   t3_t2qt4  [Request] Two girls in between paychecks, we'v...   \n",
      "\n",
      "                             request_text_edit_aware  \n",
      "0  Hey all! It's about 95 degrees here and our ki...  \n",
      "1  I didn't know a place like this exists! \\n\\nI ...  \n",
      "2  Hi Reddit. Im a single dad having a really rou...  \n",
      "3  Hi I just moved to Waltham MA from my home sta...  \n",
      "4  We're just sitting here near indianapolis on o...  \n"
     ]
    }
   ],
   "source": [
    "# Reading json file to understand its structure\n",
    "import json\n",
    "from pandas.io.json import json_normalize\n",
    "\n",
    "# Converting Train data into a dataframe\n",
    "with open('train.json') as train_file:\n",
    "    dict_train = json.load(train_file)\n",
    "    df_train = pd.io.json.json_normalize(dict_train)\n",
    "\n",
    "# Extracting Required fields\n",
    "df_train = df_train[['request_id', 'request_title', \n",
    "               'request_text_edit_aware', \n",
    "               'requester_received_pizza']]\n",
    "\n",
    "print df_train.head()\n",
    "print '---------------------------------------------------------------'\n",
    "\n",
    "# Converting Test data into a dataframe\n",
    "with open('test.json') as test_file:\n",
    "    dict_test = json.load(test_file)\n",
    "    df_test = pd.io.json.json_normalize(dict_test)\n",
    "\n",
    "# Extracting Required fields\n",
    "df_test = df_test[['request_id', 'request_title', \n",
    "               'request_text_edit_aware']]\n",
    "\n",
    "print df_test.head()"
   ]
  },
  {
   "cell_type": "code",
   "execution_count": null,
   "metadata": {
    "collapsed": true
   },
   "outputs": [],
   "source": []
  }
 ],
 "metadata": {
  "kernelspec": {
   "display_name": "Python 2",
   "language": "python",
   "name": "python2"
  },
  "language_info": {
   "codemirror_mode": {
    "name": "ipython",
    "version": 2
   },
   "file_extension": ".py",
   "mimetype": "text/x-python",
   "name": "python",
   "nbconvert_exporter": "python",
   "pygments_lexer": "ipython2",
   "version": "2.7.13"
  }
 },
 "nbformat": 4,
 "nbformat_minor": 2
}
